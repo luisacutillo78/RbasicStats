{
 "cells": [
  {
   "cell_type": "markdown",
   "metadata": {},
   "source": [
    "# Frequency Tests"
   ]
  },
  {
   "cell_type": "markdown",
   "metadata": {},
   "source": [
    "Many of the exmaples below are taken from the [Handbook of Biological Statistics](http://www.biostathandbook.com/exactgof.html). The pages in which the examples are presented are given at the begining of each example."
   ]
  },
  {
   "cell_type": "markdown",
   "metadata": {},
   "source": [
    "# 1. Cat paw example, exact binomial test\n",
    "(pp. 30–31 http://www.biostathandbook.com/exactgof.html)"
   ]
  },
  {
   "cell_type": "markdown",
   "metadata": {},
   "source": [
    "In this example:\n",
    "* 2 is the number of successes: number of times the cat uses its right paw\n",
    "* 10 is the number of trials (8 times it uses its left paw)\n",
    "\n",
    "Can you conclude that it is right-pawed, or could this result have occured due to chance under the nul hypothesis that it bats equally with each paw?\n",
    "\n",
    "---"
   ]
  },
  {
   "cell_type": "markdown",
   "metadata": {},
   "source": [
    "Remembering that 0.5 is the hypothesized probability of sucess (unbiased).\n",
    "\n",
    "First we calculate the probability of a single event only (non binomial test). "
   ]
  },
  {
   "cell_type": "code",
   "execution_count": 1,
   "metadata": {
    "collapsed": false
   },
   "outputs": [
    {
     "data": {
      "text/html": [
       "0.0439453125"
      ],
      "text/latex": [
       "0.0439453125"
      ],
      "text/markdown": [
       "0.0439453125"
      ],
      "text/plain": [
       "[1] 0.04394531"
      ]
     },
     "metadata": {},
     "output_type": "display_data"
    }
   ],
   "source": [
    "dbinom( 2, 10, 0.5, FALSE)"
   ]
  },
  {
   "cell_type": "markdown",
   "metadata": {},
   "source": [
    "The first number: 2 is whichever event there are fewer than expected of; in this case there are only two uses of the left paw, which is fewer than the expected 5. The second number, 10, is the total number of trials. The third number is the expected proportion of whichever event there were fewer than expected. The `FALSE` indicates to calculate the exact probability for that number of events only."
   ]
  },
  {
   "cell_type": "markdown",
   "metadata": {},
   "source": [
    "One-sided test:"
   ]
  },
  {
   "cell_type": "code",
   "execution_count": 2,
   "metadata": {
    "collapsed": false
   },
   "outputs": [
    {
     "data": {
      "text/plain": [
       "\n",
       "\tExact binomial test\n",
       "\n",
       "data:  2 and 10\n",
       "number of successes = 2, number of trials = 10, p-value = 0.05469\n",
       "alternative hypothesis: true probability of success is less than 0.5\n",
       "90 percent confidence interval:\n",
       " 0.0000000 0.4496039\n",
       "sample estimates:\n",
       "probability of success \n",
       "                   0.2 \n"
      ]
     },
     "metadata": {},
     "output_type": "display_data"
    }
   ],
   "source": [
    "binom.test(2, 10, 0.5, alternative = 'less', conf.level = 0.9 )"
   ]
  },
  {
   "cell_type": "markdown",
   "metadata": {},
   "source": [
    "# 2. Probability density plot, binomial distribution, p. 31\n",
    "\n",
    "In this example:\n",
    "*  You can change the values for trials and prob\n",
    "*  You can change the values for xlab and ylab\n",
    "\n",
    "---"
   ]
  },
  {
   "cell_type": "code",
   "execution_count": 3,
   "metadata": {
    "collapsed": true
   },
   "outputs": [],
   "source": [
    "trials = 10\n",
    "prob = 0.5"
   ]
  },
  {
   "cell_type": "code",
   "execution_count": 4,
   "metadata": {
    "collapsed": true
   },
   "outputs": [],
   "source": [
    "x = seq(0, trials)                   # x is a sequence, 1 to trials\n",
    "y = dbinom(x, size=trials, p=prob)   # y is the vector of heights"
   ]
  },
  {
   "cell_type": "markdown",
   "metadata": {},
   "source": [
    "Generating a bar-plot:"
   ]
  },
  {
   "cell_type": "code",
   "execution_count": 5,
   "metadata": {
    "collapsed": false
   },
   "outputs": [
    {
     "data": {
      "image/png": "[encoded data removed]",
      "text/plain": [
       "plot without title"
      ]
     },
     "metadata": {},
     "output_type": "display_data"
    }
   ],
   "source": [
    "barplot (height=y, \n",
    "         names.arg=x,\n",
    "         col = 'mediumpurple2', border = 'white',\n",
    "         xlab = \"Number of uses of right paw\",\n",
    "         ylab = \"Probability under null hypothesis\")\n",
    "box()"
   ]
  },
  {
   "cell_type": "markdown",
   "metadata": {},
   "source": [
    "#  3. Drosophila example, Chi-square goodness-of-fit\n",
    "\n",
    "(pp. 46 http://www.biostathandbook.com/chigof.html)\n",
    "\n",
    "The Chi Square goodness of fit is used when you have one nominal variable, you want to see if the number of observations in each category fits a theoretical expectation, and you have a large sample size. \n",
    "\n",
    "3:1 ratio of smooth wings to wrinkled wings in offspring from a bunch of Drosophila crosses.\n",
    "You observe 770 flies with smooth wings and 230 flies with wrinkled wings; \n",
    "the expected values are 750 smooth-winged and 250 wrinkled-winged flies\n"
   ]
  },
  {
   "cell_type": "code",
   "execution_count": 6,
   "metadata": {
    "collapsed": true
   },
   "outputs": [],
   "source": [
    "observed = c(770, 230)        # observed frequencies\n",
    "expected = c(0.75, 0.25)      # expected proportions"
   ]
  },
  {
   "cell_type": "code",
   "execution_count": 7,
   "metadata": {
    "collapsed": false
   },
   "outputs": [
    {
     "data": {
      "text/plain": [
       "\n",
       "\tChi-squared test for given probabilities\n",
       "\n",
       "data:  observed\n",
       "X-squared = 2.1333, df = 1, p-value = 0.1441\n"
      ]
     },
     "metadata": {},
     "output_type": "display_data"
    }
   ],
   "source": [
    "chisq.test(\n",
    "  x = observed,\n",
    "  p = expected, \n",
    ")"
   ]
  },
  {
   "cell_type": "markdown",
   "metadata": {},
   "source": [
    "#  4. Vaccination example, Chi-square independence \n",
    "(pp. 59–60  http://www.biostathandbook.com/chiind.html)\n",
    "\n",
    "The chi-square test of independence is used when you have two nominal variables and you want to see whether the proportions of one variable are different for different values of the other variable. Use it when the sample size is large.\n",
    "\n",
    "Jackson et al. (2013) wanted to know whether it is better to give the diphtheria, tetanus and pertussis (DTaP) vaccine in either the thigh or the arm, so they collected data on severe reactions to this vaccine in children aged 3 to 6 years old. One nominal variable is severe reaction vs. no severe reaction; the other nominal variable is thigh vs. arm."
   ]
  },
  {
   "cell_type": "code",
   "execution_count": 8,
   "metadata": {
    "collapsed": true
   },
   "outputs": [],
   "source": [
    "Input =( \n",
    "  \"Injection.area  No.severe  Severe\n",
    "  Thigh           4788       30\n",
    "  Arm             8916       76\n",
    "  \")\n"
   ]
  },
  {
   "cell_type": "code",
   "execution_count": 9,
   "metadata": {
    "collapsed": false
   },
   "outputs": [
    {
     "data": {
      "text/html": [
       "<table>\n",
       "<thead><tr><th></th><th scope=col>No.severe</th><th scope=col>Severe</th></tr></thead>\n",
       "<tbody>\n",
       "\t<tr><th scope=row>Thigh</th><td>4788</td><td>30  </td></tr>\n",
       "\t<tr><th scope=row>Arm</th><td>8916</td><td>76  </td></tr>\n",
       "</tbody>\n",
       "</table>\n"
      ],
      "text/latex": [
       "\\begin{tabular}{r|ll}\n",
       "  & No.severe & Severe\\\\\n",
       "\\hline\n",
       "\tThigh & 4788 & 30  \\\\\n",
       "\tArm & 8916 & 76  \\\\\n",
       "\\end{tabular}\n"
      ],
      "text/markdown": [
       "\n",
       "| <!--/--> | No.severe | Severe | \n",
       "|---|---|\n",
       "| Thigh | 4788 | 30   | \n",
       "| Arm | 8916 | 76   | \n",
       "\n",
       "\n"
      ],
      "text/plain": [
       "      No.severe Severe\n",
       "Thigh 4788      30    \n",
       "Arm   8916      76    "
      ]
     },
     "metadata": {},
     "output_type": "display_data"
    }
   ],
   "source": [
    "Matrix = as.matrix(read.table(textConnection(Input),\n",
    "                              header=TRUE, \n",
    "                              row.names=1))\n",
    "\n",
    "Matrix"
   ]
  },
  {
   "cell_type": "code",
   "execution_count": 10,
   "metadata": {
    "collapsed": false
   },
   "outputs": [
    {
     "data": {
      "text/plain": [
       "\n",
       "\tPearson's Chi-squared test with Yates' continuity correction\n",
       "\n",
       "data:  Matrix\n",
       "X-squared = 1.7579, df = 1, p-value = 0.1849\n"
      ]
     },
     "metadata": {},
     "output_type": "display_data"
    }
   ],
   "source": [
    "chisq.test(Matrix, correct=TRUE)      # Continuity correction for 2 x 2"
   ]
  },
  {
   "cell_type": "code",
   "execution_count": 11,
   "metadata": {
    "collapsed": false
   },
   "outputs": [
    {
     "data": {
      "text/plain": [
       "\n",
       "\tPearson's Chi-squared test\n",
       "\n",
       "data:  Matrix\n",
       "X-squared = 2.0396, df = 1, p-value = 0.1533\n"
      ]
     },
     "metadata": {},
     "output_type": "display_data"
    }
   ],
   "source": [
    "chisq.test(Matrix, correct=FALSE)      # No continuity correction for 2 x 2"
   ]
  },
  {
   "cell_type": "markdown",
   "metadata": {},
   "source": [
    "# 5. Post-hoc example, Fisher’s exact test,\n",
    "(pp. 79  http://www.biostathandbook.com/fishers.html)\n",
    "\n",
    "\n",
    "The Fisher's exact test of independence is used when you have two nominal variables and you want to see whether the proportions of one variable are different depending on the value of the other variable. Use it when the sample size is small.\n",
    "\n",
    "\n",
    " Fredericks (2012) wanted to know whether checking termite monitoring stations frequently would scare termites away and make it harder to detect termites. He checked the stations (small bits of wood in plastic tubes, placed in the ground near termite colonies) either every day, every week, every month, or just once at the end of the three-month study, and recorded how many had termite damage by the end of the study:"
   ]
  },
  {
   "cell_type": "code",
   "execution_count": 12,
   "metadata": {
    "collapsed": true
   },
   "outputs": [],
   "source": [
    "Input =(\n",
    "  \n",
    "  \"Frequency  Damaged  Undamaged\n",
    " Daily       1        24\n",
    " Weekly      5        20\n",
    " Monthly    14        11\n",
    " Quarterly  11        14\n",
    "\")"
   ]
  },
  {
   "cell_type": "code",
   "execution_count": 13,
   "metadata": {
    "collapsed": false
   },
   "outputs": [
    {
     "data": {
      "text/html": [
       "<table>\n",
       "<thead><tr><th></th><th scope=col>Damaged</th><th scope=col>Undamaged</th></tr></thead>\n",
       "<tbody>\n",
       "\t<tr><th scope=row>Daily</th><td> 1</td><td>24</td></tr>\n",
       "\t<tr><th scope=row>Weekly</th><td> 5</td><td>20</td></tr>\n",
       "\t<tr><th scope=row>Monthly</th><td>14</td><td>11</td></tr>\n",
       "\t<tr><th scope=row>Quarterly</th><td>11</td><td>14</td></tr>\n",
       "</tbody>\n",
       "</table>\n"
      ],
      "text/latex": [
       "\\begin{tabular}{r|ll}\n",
       "  & Damaged & Undamaged\\\\\n",
       "\\hline\n",
       "\tDaily &  1 & 24\\\\\n",
       "\tWeekly &  5 & 20\\\\\n",
       "\tMonthly & 14 & 11\\\\\n",
       "\tQuarterly & 11 & 14\\\\\n",
       "\\end{tabular}\n"
      ],
      "text/markdown": [
       "\n",
       "| <!--/--> | Damaged | Undamaged | \n",
       "|---|---|---|---|\n",
       "| Daily |  1 | 24 | \n",
       "| Weekly |  5 | 20 | \n",
       "| Monthly | 14 | 11 | \n",
       "| Quarterly | 11 | 14 | \n",
       "\n",
       "\n"
      ],
      "text/plain": [
       "          Damaged Undamaged\n",
       "Daily      1      24       \n",
       "Weekly     5      20       \n",
       "Monthly   14      11       \n",
       "Quarterly 11      14       "
      ]
     },
     "metadata": {},
     "output_type": "display_data"
    }
   ],
   "source": [
    "Matrix = as.matrix(read.table(textConnection(Input),\n",
    "                              header=TRUE, \n",
    "                              row.names=1))\n",
    "\n",
    "Matrix"
   ]
  },
  {
   "cell_type": "markdown",
   "metadata": {},
   "source": [
    "The overall *p* value for this is p=0.00012 so it is highly significant,the frequency of disturbance is affecting the presence of termites.  "
   ]
  },
  {
   "cell_type": "code",
   "execution_count": 14,
   "metadata": {
    "collapsed": false
   },
   "outputs": [
    {
     "data": {
      "text/plain": [
       "\n",
       "\tFisher's Exact Test for Count Data\n",
       "\n",
       "data:  Matrix\n",
       "p-value = 0.0001228\n",
       "alternative hypothesis: two.sided\n"
      ]
     },
     "metadata": {},
     "output_type": "display_data"
    }
   ],
   "source": [
    "fisher.test(Matrix, alternative=\"two.sided\")"
   ]
  },
  {
   "cell_type": "code",
   "execution_count": 15,
   "metadata": {
    "collapsed": false
   },
   "outputs": [
    {
     "name": "stderr",
     "output_type": "stream",
     "text": [
      "also installing the dependencies ‘RSpectra’, ‘ellipse’, ‘flashClust’, ‘leaps’, ‘rARPACK’, ‘permute’, ‘ade4’, ‘cramer’, ‘dunn.test’, ‘FactoMineR’, ‘mixOmics’, ‘multcompView’, ‘pls’, ‘pspearman’, ‘vegan’\n",
      "\n"
     ]
    },
    {
     "name": "stdout",
     "output_type": "stream",
     "text": [
      "\n",
      "The downloaded binary packages are in\n",
      "\t/var/folders/2n/g19qg3kj5gq45b2w8yx67q3m0000gp/T//RtmpnVcUIE/downloaded_packages\n"
     ]
    }
   ],
   "source": [
    "install.packages('RVAideMemoire')\n"
   ]
  },
  {
   "cell_type": "markdown",
   "metadata": {},
   "source": [
    "The p-values can be adjusted. See ?p.adjust for options"
   ]
  },
  {
   "cell_type": "code",
   "execution_count": 16,
   "metadata": {
    "collapsed": false
   },
   "outputs": [
    {
     "name": "stderr",
     "output_type": "stream",
     "text": [
      "Warning message:\n",
      "“package ‘RVAideMemoire’ was built under R version 3.4.3”*** Package RVAideMemoire v 0.9-69 ***\n",
      "\n",
      "NOTE: stop using package lsmeans and change to package emmeans, its new version\n",
      "\n"
     ]
    },
    {
     "data": {
      "text/plain": [
       "\n",
       "        Pairwise comparisons using Fisher's exact test for count data\n",
       "\n",
       "data:  Matrix\n",
       "\n",
       "              Daily  Weekly Monthly\n",
       "Weekly    0.1894630       -       -\n",
       "Monthly   0.0001019 0.01863       -\n",
       "Quarterly 0.0019215 0.12835  0.5721\n",
       "\n",
       "P value adjustment method: none"
      ]
     },
     "metadata": {},
     "output_type": "display_data"
    }
   ],
   "source": [
    "library('RVAideMemoire')\n",
    "fisher.multcomp(Matrix, p.method = \"none\")"
   ]
  },
  {
   "cell_type": "code",
   "execution_count": null,
   "metadata": {
    "collapsed": true
   },
   "outputs": [],
   "source": []
  }
 ],
 "metadata": {
  "kernelspec": {
   "display_name": "R",
   "language": "R",
   "name": "ir"
  },
  "language_info": {
   "codemirror_mode": "r",
   "file_extension": ".r",
   "mimetype": "text/x-r-source",
   "name": "R",
   "pygments_lexer": "r",
   "version": "3.4.0"
  }
 },
 "nbformat": 4,
 "nbformat_minor": 2
}
