{
 "cells": [
  {
   "cell_type": "markdown",
   "metadata": {},
   "source": [
    "# Lesson1: Elementary Statistics on real data examples with R  "
   ]
  },
  {
   "cell_type": "markdown",
   "metadata": {},
   "source": [
    "## This tutorial will use examples from the e-book \"R Tutorial with Bayesian Statistics Using OpenBUGS\". Available here:\n",
    "https://www.amazon.com/dp/B006ZP4SKW\n",
    "\n",
    "## and on examples from http://www.r-tutor.com/\n"
   ]
  },
  {
   "cell_type": "markdown",
   "metadata": {},
   "source": [
    "### Qualitative data sample"
   ]
  },
  {
   "cell_type": "markdown",
   "metadata": {},
   "source": [
    "A data sample is said to be **qualitative** or **categorical**, if its values belong to a collection of known defined non-overlapping classes. Examples\n",
    "* Common examples include student letter grade (A, B, C, D or F), \n",
    "* commercial bond rating (AAA, AAB, ...) \n",
    "* consumer clothing shoe sizes (1, 2, 3, ...).\n",
    "\n",
    "We will use few R built-in data frame belonging to the MASS package. <br>\n",
    "One dataset is named **painters**. It is a compilation of technical information of a few eighteenth century classical painters. <br> Another is called **ships**. It provides the number of damage incidents and aggregate months of service by ship type, year of construction, and period of operation.\n"
   ]
  },
  {
   "cell_type": "code",
   "execution_count": 1,
   "metadata": {
    "collapsed": false
   },
   "outputs": [
    {
     "data": {
      "text/html": [
       "<table>\n",
       "<thead><tr><th></th><th scope=col>Composition</th><th scope=col>Drawing</th><th scope=col>Colour</th><th scope=col>Expression</th><th scope=col>School</th></tr></thead>\n",
       "<tbody>\n",
       "\t<tr><th scope=row>Da Udine</th><td>10</td><td> 8</td><td>16</td><td> 3</td><td>A </td></tr>\n",
       "\t<tr><th scope=row>Da Vinci</th><td>15</td><td>16</td><td> 4</td><td>14</td><td>A </td></tr>\n",
       "\t<tr><th scope=row>Del Piombo</th><td> 8</td><td>13</td><td>16</td><td> 7</td><td>A </td></tr>\n",
       "\t<tr><th scope=row>Del Sarto</th><td>12</td><td>16</td><td> 9</td><td> 8</td><td>A </td></tr>\n",
       "\t<tr><th scope=row>Fr. Penni</th><td> 0</td><td>15</td><td> 8</td><td> 0</td><td>A </td></tr>\n",
       "\t<tr><th scope=row>Guilio Romano</th><td>15</td><td>16</td><td> 4</td><td>14</td><td>A </td></tr>\n",
       "</tbody>\n",
       "</table>\n"
      ],
      "text/latex": [
       "\\begin{tabular}{r|lllll}\n",
       "  & Composition & Drawing & Colour & Expression & School\\\\\n",
       "\\hline\n",
       "\tDa Udine & 10 &  8 & 16 &  3 & A \\\\\n",
       "\tDa Vinci & 15 & 16 &  4 & 14 & A \\\\\n",
       "\tDel Piombo &  8 & 13 & 16 &  7 & A \\\\\n",
       "\tDel Sarto & 12 & 16 &  9 &  8 & A \\\\\n",
       "\tFr. Penni &  0 & 15 &  8 &  0 & A \\\\\n",
       "\tGuilio Romano & 15 & 16 &  4 & 14 & A \\\\\n",
       "\\end{tabular}\n"
      ],
      "text/markdown": [
       "\n",
       "| <!--/--> | Composition | Drawing | Colour | Expression | School | \n",
       "|---|---|---|---|---|---|\n",
       "| Da Udine | 10 |  8 | 16 |  3 | A  | \n",
       "| Da Vinci | 15 | 16 |  4 | 14 | A  | \n",
       "| Del Piombo |  8 | 13 | 16 |  7 | A  | \n",
       "| Del Sarto | 12 | 16 |  9 |  8 | A  | \n",
       "| Fr. Penni |  0 | 15 |  8 |  0 | A  | \n",
       "| Guilio Romano | 15 | 16 |  4 | 14 | A  | \n",
       "\n",
       "\n"
      ],
      "text/plain": [
       "              Composition Drawing Colour Expression School\n",
       "Da Udine      10           8      16      3         A     \n",
       "Da Vinci      15          16       4     14         A     \n",
       "Del Piombo     8          13      16      7         A     \n",
       "Del Sarto     12          16       9      8         A     \n",
       "Fr. Penni      0          15       8      0         A     \n",
       "Guilio Romano 15          16       4     14         A     "
      ]
     },
     "metadata": {},
     "output_type": "display_data"
    }
   ],
   "source": [
    "library(MASS)\n",
    "head(painters) \n",
    "#help(painters)"
   ]
  },
  {
   "cell_type": "code",
   "execution_count": 2,
   "metadata": {
    "collapsed": false
   },
   "outputs": [
    {
     "data": {
      "text/html": [
       "<ol class=list-inline>\n",
       "\t<li>A</li>\n",
       "\t<li>A</li>\n",
       "\t<li>A</li>\n",
       "\t<li>A</li>\n",
       "\t<li>A</li>\n",
       "\t<li>A</li>\n",
       "\t<li>A</li>\n",
       "\t<li>A</li>\n",
       "\t<li>A</li>\n",
       "\t<li>A</li>\n",
       "\t<li>B</li>\n",
       "\t<li>B</li>\n",
       "\t<li>B</li>\n",
       "\t<li>B</li>\n",
       "\t<li>B</li>\n",
       "\t<li>B</li>\n",
       "\t<li>C</li>\n",
       "\t<li>C</li>\n",
       "\t<li>C</li>\n",
       "\t<li>C</li>\n",
       "\t<li>C</li>\n",
       "\t<li>C</li>\n",
       "\t<li>D</li>\n",
       "\t<li>D</li>\n",
       "\t<li>D</li>\n",
       "\t<li>D</li>\n",
       "\t<li>D</li>\n",
       "\t<li>D</li>\n",
       "\t<li>D</li>\n",
       "\t<li>D</li>\n",
       "\t<li>D</li>\n",
       "\t<li>D</li>\n",
       "\t<li>E</li>\n",
       "\t<li>E</li>\n",
       "\t<li>E</li>\n",
       "\t<li>E</li>\n",
       "\t<li>E</li>\n",
       "\t<li>E</li>\n",
       "\t<li>E</li>\n",
       "\t<li>F</li>\n",
       "\t<li>F</li>\n",
       "\t<li>F</li>\n",
       "\t<li>F</li>\n",
       "\t<li>G</li>\n",
       "\t<li>G</li>\n",
       "\t<li>G</li>\n",
       "\t<li>G</li>\n",
       "\t<li>G</li>\n",
       "\t<li>G</li>\n",
       "\t<li>G</li>\n",
       "\t<li>H</li>\n",
       "\t<li>H</li>\n",
       "\t<li>H</li>\n",
       "\t<li>H</li>\n",
       "</ol>\n"
      ],
      "text/latex": [
       "\\begin{enumerate*}\n",
       "\\item A\n",
       "\\item A\n",
       "\\item A\n",
       "\\item A\n",
       "\\item A\n",
       "\\item A\n",
       "\\item A\n",
       "\\item A\n",
       "\\item A\n",
       "\\item A\n",
       "\\item B\n",
       "\\item B\n",
       "\\item B\n",
       "\\item B\n",
       "\\item B\n",
       "\\item B\n",
       "\\item C\n",
       "\\item C\n",
       "\\item C\n",
       "\\item C\n",
       "\\item C\n",
       "\\item C\n",
       "\\item D\n",
       "\\item D\n",
       "\\item D\n",
       "\\item D\n",
       "\\item D\n",
       "\\item D\n",
       "\\item D\n",
       "\\item D\n",
       "\\item D\n",
       "\\item D\n",
       "\\item E\n",
       "\\item E\n",
       "\\item E\n",
       "\\item E\n",
       "\\item E\n",
       "\\item E\n",
       "\\item E\n",
       "\\item F\n",
       "\\item F\n",
       "\\item F\n",
       "\\item F\n",
       "\\item G\n",
       "\\item G\n",
       "\\item G\n",
       "\\item G\n",
       "\\item G\n",
       "\\item G\n",
       "\\item G\n",
       "\\item H\n",
       "\\item H\n",
       "\\item H\n",
       "\\item H\n",
       "\\end{enumerate*}\n"
      ],
      "text/markdown": [
       "1. A\n",
       "2. A\n",
       "3. A\n",
       "4. A\n",
       "5. A\n",
       "6. A\n",
       "7. A\n",
       "8. A\n",
       "9. A\n",
       "10. A\n",
       "11. B\n",
       "12. B\n",
       "13. B\n",
       "14. B\n",
       "15. B\n",
       "16. B\n",
       "17. C\n",
       "18. C\n",
       "19. C\n",
       "20. C\n",
       "21. C\n",
       "22. C\n",
       "23. D\n",
       "24. D\n",
       "25. D\n",
       "26. D\n",
       "27. D\n",
       "28. D\n",
       "29. D\n",
       "30. D\n",
       "31. D\n",
       "32. D\n",
       "33. E\n",
       "34. E\n",
       "35. E\n",
       "36. E\n",
       "37. E\n",
       "38. E\n",
       "39. E\n",
       "40. F\n",
       "41. F\n",
       "42. F\n",
       "43. F\n",
       "44. G\n",
       "45. G\n",
       "46. G\n",
       "47. G\n",
       "48. G\n",
       "49. G\n",
       "50. G\n",
       "51. H\n",
       "52. H\n",
       "53. H\n",
       "54. H\n",
       "\n",
       "\n"
      ],
      "text/plain": [
       " [1] A A A A A A A A A A B B B B B B C C C C C C D D D D D D D D D D E E E E E E\n",
       "[39] E F F F F G G G G G G G H H H H\n",
       "Levels: A B C D E F G H"
      ]
     },
     "metadata": {},
     "output_type": "display_data"
    }
   ],
   "source": [
    "painters$School"
   ]
  },
  {
   "cell_type": "code",
   "execution_count": 3,
   "metadata": {
    "collapsed": false
   },
   "outputs": [
    {
     "data": {
      "text/html": [
       "<table>\n",
       "<thead><tr><th scope=col>type</th><th scope=col>year</th><th scope=col>period</th><th scope=col>service</th><th scope=col>incidents</th></tr></thead>\n",
       "<tbody>\n",
       "\t<tr><td>A   </td><td>60  </td><td>60  </td><td> 127</td><td> 0  </td></tr>\n",
       "\t<tr><td>A   </td><td>60  </td><td>75  </td><td>  63</td><td> 0  </td></tr>\n",
       "\t<tr><td>A   </td><td>65  </td><td>60  </td><td>1095</td><td> 3  </td></tr>\n",
       "\t<tr><td>A   </td><td>65  </td><td>75  </td><td>1095</td><td> 4  </td></tr>\n",
       "\t<tr><td>A   </td><td>70  </td><td>60  </td><td>1512</td><td> 6  </td></tr>\n",
       "\t<tr><td>A   </td><td>70  </td><td>75  </td><td>3353</td><td>18  </td></tr>\n",
       "</tbody>\n",
       "</table>\n"
      ],
      "text/latex": [
       "\\begin{tabular}{r|lllll}\n",
       " type & year & period & service & incidents\\\\\n",
       "\\hline\n",
       "\t A    & 60   & 60   &  127 &  0  \\\\\n",
       "\t A    & 60   & 75   &   63 &  0  \\\\\n",
       "\t A    & 65   & 60   & 1095 &  3  \\\\\n",
       "\t A    & 65   & 75   & 1095 &  4  \\\\\n",
       "\t A    & 70   & 60   & 1512 &  6  \\\\\n",
       "\t A    & 70   & 75   & 3353 & 18  \\\\\n",
       "\\end{tabular}\n"
      ],
      "text/markdown": [
       "\n",
       "type | year | period | service | incidents | \n",
       "|---|---|---|---|---|---|\n",
       "| A    | 60   | 60   |  127 |  0   | \n",
       "| A    | 60   | 75   |   63 |  0   | \n",
       "| A    | 65   | 60   | 1095 |  3   | \n",
       "| A    | 65   | 75   | 1095 |  4   | \n",
       "| A    | 70   | 60   | 1512 |  6   | \n",
       "| A    | 70   | 75   | 3353 | 18   | \n",
       "\n",
       "\n"
      ],
      "text/plain": [
       "  type year period service incidents\n",
       "1 A    60   60      127     0       \n",
       "2 A    60   75       63     0       \n",
       "3 A    65   60     1095     3       \n",
       "4 A    65   75     1095     4       \n",
       "5 A    70   60     1512     6       \n",
       "6 A    70   75     3353    18       "
      ]
     },
     "metadata": {},
     "output_type": "display_data"
    }
   ],
   "source": [
    "head(ships)\n"
   ]
  },
  {
   "cell_type": "markdown",
   "metadata": {},
   "source": [
    "## The *frequency distribution* of a data variable is a summary of the data occurrence in a collection of non-overlapping categories.\n",
    "\n",
    "Example\n",
    "The frequency distribution of the School variable, in the data set painters, is a summary of the number of painters in each school.\n",
    "\n",
    "Problem:  \n",
    "Find the frequency distribution of the painter schools in the data set painters.\n",
    "\n",
    "Solution: \n",
    "We apply the table function to compute the frequency distribution of the School variable."
   ]
  },
  {
   "cell_type": "code",
   "execution_count": 4,
   "metadata": {
    "collapsed": true
   },
   "outputs": [],
   "source": [
    "school = painters$School      # the painter schools \n",
    "school.freq = table(school)   # apply the table function"
   ]
  },
  {
   "cell_type": "code",
   "execution_count": 5,
   "metadata": {
    "collapsed": false
   },
   "outputs": [
    {
     "data": {
      "text/plain": [
       "school\n",
       " A  B  C  D  E  F  G  H \n",
       "10  6  6 10  7  4  7  4 "
      ]
     },
     "metadata": {},
     "output_type": "display_data"
    },
    {
     "data": {
      "text/html": [
       "<table>\n",
       "<thead><tr><th></th><th scope=col>school.freq</th></tr></thead>\n",
       "<tbody>\n",
       "\t<tr><th scope=row>A</th><td>10</td></tr>\n",
       "\t<tr><th scope=row>B</th><td> 6</td></tr>\n",
       "\t<tr><th scope=row>C</th><td> 6</td></tr>\n",
       "\t<tr><th scope=row>D</th><td>10</td></tr>\n",
       "\t<tr><th scope=row>E</th><td> 7</td></tr>\n",
       "\t<tr><th scope=row>F</th><td> 4</td></tr>\n",
       "\t<tr><th scope=row>G</th><td> 7</td></tr>\n",
       "\t<tr><th scope=row>H</th><td> 4</td></tr>\n",
       "</tbody>\n",
       "</table>\n"
      ],
      "text/latex": [
       "\\begin{tabular}{r|l}\n",
       "  & school.freq\\\\\n",
       "\\hline\n",
       "\tA & 10\\\\\n",
       "\tB &  6\\\\\n",
       "\tC &  6\\\\\n",
       "\tD & 10\\\\\n",
       "\tE &  7\\\\\n",
       "\tF &  4\\\\\n",
       "\tG &  7\\\\\n",
       "\tH &  4\\\\\n",
       "\\end{tabular}\n"
      ],
      "text/markdown": [
       "\n",
       "| <!--/--> | school.freq | \n",
       "|---|---|---|---|---|---|---|---|\n",
       "| A | 10 | \n",
       "| B |  6 | \n",
       "| C |  6 | \n",
       "| D | 10 | \n",
       "| E |  7 | \n",
       "| F |  4 | \n",
       "| G |  7 | \n",
       "| H |  4 | \n",
       "\n",
       "\n"
      ],
      "text/plain": [
       "  school.freq\n",
       "A 10         \n",
       "B  6         \n",
       "C  6         \n",
       "D 10         \n",
       "E  7         \n",
       "F  4         \n",
       "G  7         \n",
       "H  4         "
      ]
     },
     "metadata": {},
     "output_type": "display_data"
    }
   ],
   "source": [
    "school.freq\n",
    "cbind(school.freq) "
   ]
  },
  {
   "cell_type": "markdown",
   "metadata": {},
   "source": [
    "## Exercise\n",
    "Find the frequency distribution of the type in ships.<br>\n",
    "Find programmatically the type that has the most ships.\n"
   ]
  },
  {
   "cell_type": "markdown",
   "metadata": {},
   "source": [
    "## The relative frequency distribution of a data variable is a summary of the frequency proportion in a collection of non-overlapping categories.\n",
    "\n",
    "## The relationship of frequency and relative frequency is: Relative Freq= Freq/sample sz\n",
    "\n",
    "Problem\n",
    "Find the relative frequency distribution of the painter schools in the data set painters.\n",
    "\n",
    "Solution\n",
    "We first apply the table function to compute the frequency distribution of the School variable.\n",
    "\n"
   ]
  },
  {
   "cell_type": "code",
   "execution_count": 6,
   "metadata": {
    "collapsed": true
   },
   "outputs": [],
   "source": [
    "#we find the sample size of painters with the nrow function, and divide the frequency distribution with it. Therefore the relative frequency distribution is:\n",
    "\n",
    "school.relfreq = school.freq / nrow(painters)"
   ]
  },
  {
   "cell_type": "code",
   "execution_count": 7,
   "metadata": {
    "collapsed": false
   },
   "outputs": [
    {
     "data": {
      "text/html": [
       "<table>\n",
       "<thead><tr><th></th><th scope=col>school.relfreq</th></tr></thead>\n",
       "<tbody>\n",
       "\t<tr><th scope=row>A</th><td>0.18518519</td></tr>\n",
       "\t<tr><th scope=row>B</th><td>0.11111111</td></tr>\n",
       "\t<tr><th scope=row>C</th><td>0.11111111</td></tr>\n",
       "\t<tr><th scope=row>D</th><td>0.18518519</td></tr>\n",
       "\t<tr><th scope=row>E</th><td>0.12962963</td></tr>\n",
       "\t<tr><th scope=row>F</th><td>0.07407407</td></tr>\n",
       "\t<tr><th scope=row>G</th><td>0.12962963</td></tr>\n",
       "\t<tr><th scope=row>H</th><td>0.07407407</td></tr>\n",
       "</tbody>\n",
       "</table>\n"
      ],
      "text/latex": [
       "\\begin{tabular}{r|l}\n",
       "  & school.relfreq\\\\\n",
       "\\hline\n",
       "\tA & 0.18518519\\\\\n",
       "\tB & 0.11111111\\\\\n",
       "\tC & 0.11111111\\\\\n",
       "\tD & 0.18518519\\\\\n",
       "\tE & 0.12962963\\\\\n",
       "\tF & 0.07407407\\\\\n",
       "\tG & 0.12962963\\\\\n",
       "\tH & 0.07407407\\\\\n",
       "\\end{tabular}\n"
      ],
      "text/markdown": [
       "\n",
       "| <!--/--> | school.relfreq | \n",
       "|---|---|---|---|---|---|---|---|\n",
       "| A | 0.18518519 | \n",
       "| B | 0.11111111 | \n",
       "| C | 0.11111111 | \n",
       "| D | 0.18518519 | \n",
       "| E | 0.12962963 | \n",
       "| F | 0.07407407 | \n",
       "| G | 0.12962963 | \n",
       "| H | 0.07407407 | \n",
       "\n",
       "\n"
      ],
      "text/plain": [
       "  school.relfreq\n",
       "A 0.18518519    \n",
       "B 0.11111111    \n",
       "C 0.11111111    \n",
       "D 0.18518519    \n",
       "E 0.12962963    \n",
       "F 0.07407407    \n",
       "G 0.12962963    \n",
       "H 0.07407407    "
      ]
     },
     "metadata": {},
     "output_type": "display_data"
    }
   ],
   "source": [
    "cbind(school.relfreq) "
   ]
  },
  {
   "cell_type": "markdown",
   "metadata": {},
   "source": [
    "### Exercise\n",
    "Find the relative frequency distribution of the composition scores in painters."
   ]
  },
  {
   "cell_type": "code",
   "execution_count": 20,
   "metadata": {
    "collapsed": false
   },
   "outputs": [
    {
     "data": {
      "text/html": [
       "<table>\n",
       "<thead><tr><th></th><th scope=col>Composition</th><th scope=col>Drawing</th><th scope=col>Colour</th><th scope=col>Expression</th><th scope=col>School</th></tr></thead>\n",
       "<tbody>\n",
       "\t<tr><th scope=row>Da Udine</th><td>10</td><td> 8</td><td>16</td><td> 3</td><td>A </td></tr>\n",
       "\t<tr><th scope=row>Da Vinci</th><td>15</td><td>16</td><td> 4</td><td>14</td><td>A </td></tr>\n",
       "\t<tr><th scope=row>Del Piombo</th><td> 8</td><td>13</td><td>16</td><td> 7</td><td>A </td></tr>\n",
       "\t<tr><th scope=row>Del Sarto</th><td>12</td><td>16</td><td> 9</td><td> 8</td><td>A </td></tr>\n",
       "\t<tr><th scope=row>Fr. Penni</th><td> 0</td><td>15</td><td> 8</td><td> 0</td><td>A </td></tr>\n",
       "\t<tr><th scope=row>Guilio Romano</th><td>15</td><td>16</td><td> 4</td><td>14</td><td>A </td></tr>\n",
       "</tbody>\n",
       "</table>\n"
      ],
      "text/latex": [
       "\\begin{tabular}{r|lllll}\n",
       "  & Composition & Drawing & Colour & Expression & School\\\\\n",
       "\\hline\n",
       "\tDa Udine & 10 &  8 & 16 &  3 & A \\\\\n",
       "\tDa Vinci & 15 & 16 &  4 & 14 & A \\\\\n",
       "\tDel Piombo &  8 & 13 & 16 &  7 & A \\\\\n",
       "\tDel Sarto & 12 & 16 &  9 &  8 & A \\\\\n",
       "\tFr. Penni &  0 & 15 &  8 &  0 & A \\\\\n",
       "\tGuilio Romano & 15 & 16 &  4 & 14 & A \\\\\n",
       "\\end{tabular}\n"
      ],
      "text/markdown": [
       "\n",
       "| <!--/--> | Composition | Drawing | Colour | Expression | School | \n",
       "|---|---|---|---|---|---|\n",
       "| Da Udine | 10 |  8 | 16 |  3 | A  | \n",
       "| Da Vinci | 15 | 16 |  4 | 14 | A  | \n",
       "| Del Piombo |  8 | 13 | 16 |  7 | A  | \n",
       "| Del Sarto | 12 | 16 |  9 |  8 | A  | \n",
       "| Fr. Penni |  0 | 15 |  8 |  0 | A  | \n",
       "| Guilio Romano | 15 | 16 |  4 | 14 | A  | \n",
       "\n",
       "\n"
      ],
      "text/plain": [
       "              Composition Drawing Colour Expression School\n",
       "Da Udine      10           8      16      3         A     \n",
       "Da Vinci      15          16       4     14         A     \n",
       "Del Piombo     8          13      16      7         A     \n",
       "Del Sarto     12          16       9      8         A     \n",
       "Fr. Penni      0          15       8      0         A     \n",
       "Guilio Romano 15          16       4     14         A     "
      ]
     },
     "metadata": {},
     "output_type": "display_data"
    }
   ],
   "source": [
    "head(painters)\n"
   ]
  },
  {
   "cell_type": "markdown",
   "metadata": {},
   "source": [
    "## Bar Plots\n",
    "\n",
    "# A bar graph of a qualitative data sample consists of vertical parallel bars that shows the frequency distribution graphically.\n",
    "\n",
    "Example\n",
    "In the data set painters, the bar graph of the School variable is a collection of vertical bars showing the number of painters in each school.\n",
    "\n",
    "Problem\n",
    "Find the bar graph of the painter schools in the data set painters.\n",
    "\n",
    "Solution\n",
    "We first apply the table function to compute the frequency distribution of the School variable.\n"
   ]
  },
  {
   "cell_type": "code",
   "execution_count": 9,
   "metadata": {
    "collapsed": false
   },
   "outputs": [
    {
     "data": {
      "image/png": "[encoded data removed]",
      "text/plain": [
       "plot without title"
      ]
     },
     "metadata": {},
     "output_type": "display_data"
    }
   ],
   "source": [
    "# we apply the barplot function to produce its bar graph.\n",
    "\n",
    "barplot(school.freq)         # apply the barplot function"
   ]
  },
  {
   "cell_type": "code",
   "execution_count": 12,
   "metadata": {
    "collapsed": false
   },
   "outputs": [
    {
     "data": {
      "image/png": "[encoded data removed]",
      "text/plain": [
       "plot without title"
      ]
     },
     "metadata": {},
     "output_type": "display_data"
    }
   ],
   "source": [
    "#To colorize the bar graph, we select a color palette and set it in the col argument of barplot.\n",
    "\n",
    "colors = c(\"red\", \"yellow\", \"green\", \"violet\", \n",
    "  \"orange\", \"blue\", \"pink\", \"cyan\") \n",
    "barplot(school.freq,         # apply the barplot function \n",
    "  col=colors)                # set the color palette"
   ]
  },
  {
   "cell_type": "markdown",
   "metadata": {},
   "source": [
    "## Exercise\n",
    "Find the bar graph of the composition scores in painters.\n",
    "Find the bar graph of the type in sheeps.\n"
   ]
  },
  {
   "cell_type": "code",
   "execution_count": null,
   "metadata": {
    "collapsed": true
   },
   "outputs": [],
   "source": []
  }
 ],
 "metadata": {
  "kernelspec": {
   "display_name": "R",
   "language": "R",
   "name": "ir"
  },
  "language_info": {
   "codemirror_mode": "r",
   "file_extension": ".r",
   "mimetype": "text/x-r-source",
   "name": "R",
   "pygments_lexer": "r",
   "version": "3.4.0"
  }
 },
 "nbformat": 4,
 "nbformat_minor": 2
}
